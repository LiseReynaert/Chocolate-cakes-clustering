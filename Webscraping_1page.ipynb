{
 "cells": [
  {
   "cell_type": "markdown",
   "metadata": {},
   "source": [
    "# The chocolate cake project\n",
    "\n",
    "What are the characteristics of different types of chocolate cakes : mi-cuit, fondant, moelleux, cake and cupcake ?\n",
    "\n",
    "Here are the steps:\n",
    "1. I first retrieve the information I need on one page of marmiton.org via webscraping. \n",
    "2. I create a DataFrame\n",
    "3. I analyse the data, and classify the different recipes with support-vector machines (SVM).\n",
    "\n",
    "## 1 Webscraping of marmiton.org\n",
    "\n",
    "### 1.1 Webscraping of one recipe\n",
    "\n",
    "\n"
   ]
  },
  {
   "cell_type": "markdown",
   "metadata": {},
   "source": [
    "We first retrieve the information from one page, to see what's going on before automating on all the recipes\n",
    "\n",
    "<img src=\"final.png\" width=\"400\">\n",
    "\n",
    "We import the libraries:"
   ]
  },
  {
   "cell_type": "code",
   "execution_count": 2,
   "metadata": {},
   "outputs": [],
   "source": [
    "from bs4 import BeautifulSoup as bs\n",
    "import requests\n",
    "import pandas as pd\n",
    "import regex as re\n"
   ]
  },
  {
   "cell_type": "code",
   "execution_count": 5,
   "metadata": {},
   "outputs": [],
   "source": [
    "r = requests.get(\"https://www.marmiton.org/recettes/recette_moelleux-au-chocolat_17982.aspx\")\n",
    "\n",
    "# Convert to a beautiful soup object\n",
    "soup = bs(r.content)\n",
    "\n",
    "# Print out the HTML\n",
    "contents = soup.prettify()\n",
    "#print(contents)"
   ]
  },
  {
   "cell_type": "markdown",
   "metadata": {},
   "source": [
    "We use the inspect tools on the webpage to find the interesting elements :\n",
    "\n",
    "1. Name of recipe\n",
    "2. Note by the users\n",
    "3. Number of comments\n",
    "4. Difficulty\n",
    "5. Time\n",
    "6. Ingredients and quantity"
   ]
  },
  {
   "cell_type": "code",
   "execution_count": 44,
   "metadata": {},
   "outputs": [
    {
     "name": "stdout",
     "output_type": "stream",
     "text": [
      "Name of recipe: Moelleux au chocolat\n",
      "Note by users: 4.8/5\n",
      "Number of comments:356\n",
      "['25 min', 'très facile', 'bon marché']\n",
      "['25 min', '15 min', '-', '10 min']\n",
      "['chocolat', 'beurre', 'sucre glace', 'farine', 'oeufs']\n",
      "['250 g', '175 g', '125 g', '75 g', '5']\n"
     ]
    }
   ],
   "source": [
    "name = soup.find(\"h1\", class_ = \"SHRD__sc-10plygc-0 itJBWW\").get_text()\n",
    "print(\"Name of recipe: \"+name)\n",
    "\n",
    "note = soup.find(\"span\",class_ = \"SHRD__sc-10plygc-0 jHwZwD\").get_text()\n",
    "print(\"Note by users: \"+note)\n",
    "\n",
    "number_comments = soup.find_all(\"span\",class_ = \"SHRD__sc-10plygc-0 cAYPwA\")\n",
    "number_comments = [nb(string=re.compile(\"commentaires\")) for nb in number_comments]\n",
    "number_comments = str(number_comments).replace(' commentaires','').replace('\\'', '').replace('[','').replace(']','')\n",
    "print(\"Number of comments:\"+number_comments)\n",
    "\n",
    "difficulty = soup.find_all(\"p\",class_ = \"RCP__sc-1qnswg8-1 iDYkZP\")\n",
    "diff = []\n",
    "for index,row in enumerate(difficulty):\n",
    "    diff.append(row.get_text().replace(\"\\xa0\", \" \")) \n",
    "print(diff)\n",
    "\n",
    "time = soup.find_all(\"span\",class_ = \"SHRD__sc-10plygc-0 bzAHrL\")\n",
    "ti = []\n",
    "for index,row in enumerate(time):\n",
    "    ti.append(row.get_text().replace(\"\\xa0\", \" \")) \n",
    "print(ti)\n",
    "\n",
    "ingr = soup.find_all(\"span\", {'class':['RCP__sc-8cqrvd-3 cDbUWZ', 'RCP__sc-8cqrvd-3 itCXhd']})\n",
    "ingredient = []\n",
    "for index,row in enumerate(ingr):\n",
    "        ingredient.append(row.get_text().replace(\"\\xa0\", \" \")) \n",
    "print(ingredient)\n",
    "\n",
    "quantity = soup.find_all(\"span\",class_ = \"SHRD__sc-10plygc-0 epviYI\")\n",
    "quant = []\n",
    "for index,row in enumerate(quantity):\n",
    "        quant.append(row.get_text().replace(\"\\xa0\", \" \")) \n",
    "print(quant)"
   ]
  },
  {
   "cell_type": "markdown",
   "metadata": {},
   "source": [
    "We want to create a DataFrame with this information.\n",
    "We choose the following data structure :\n",
    "\n",
    "<img src=\"dataframe_2.png\" width=\"900\">\n"
   ]
  },
  {
   "cell_type": "code",
   "execution_count": 45,
   "metadata": {},
   "outputs": [
    {
     "data": {
      "text/html": [
       "<div>\n",
       "<style scoped>\n",
       "    .dataframe tbody tr th:only-of-type {\n",
       "        vertical-align: middle;\n",
       "    }\n",
       "\n",
       "    .dataframe tbody tr th {\n",
       "        vertical-align: top;\n",
       "    }\n",
       "\n",
       "    .dataframe thead th {\n",
       "        text-align: right;\n",
       "    }\n",
       "</style>\n",
       "<table border=\"1\" class=\"dataframe\">\n",
       "  <thead>\n",
       "    <tr style=\"text-align: right;\">\n",
       "      <th></th>\n",
       "      <th>name</th>\n",
       "      <th>note</th>\n",
       "      <th>number_comments</th>\n",
       "      <th>difficulty</th>\n",
       "      <th>price</th>\n",
       "      <th>time_tot</th>\n",
       "      <th>time_prep</th>\n",
       "      <th>time_repos</th>\n",
       "      <th>time_cooking</th>\n",
       "      <th>chocolat</th>\n",
       "      <th>beurre</th>\n",
       "      <th>sucre glace</th>\n",
       "      <th>farine</th>\n",
       "      <th>oeufs</th>\n",
       "    </tr>\n",
       "  </thead>\n",
       "  <tbody>\n",
       "    <tr>\n",
       "      <th>0</th>\n",
       "      <td>Moelleux au chocolat</td>\n",
       "      <td>4.8/5</td>\n",
       "      <td>356</td>\n",
       "      <td>très facile</td>\n",
       "      <td>bon marché</td>\n",
       "      <td>25 min</td>\n",
       "      <td>15 min</td>\n",
       "      <td>-</td>\n",
       "      <td>10 min</td>\n",
       "      <td>250 g</td>\n",
       "      <td>175 g</td>\n",
       "      <td>125 g</td>\n",
       "      <td>75 g</td>\n",
       "      <td>5</td>\n",
       "    </tr>\n",
       "  </tbody>\n",
       "</table>\n",
       "</div>"
      ],
      "text/plain": [
       "                   name   note number_comments   difficulty       price  \\\n",
       "0  Moelleux au chocolat  4.8/5             356  très facile  bon marché   \n",
       "\n",
       "  time_tot time_prep time_repos time_cooking chocolat beurre sucre glace  \\\n",
       "0   25 min    15 min          -       10 min    250 g  175 g       125 g   \n",
       "\n",
       "  farine oeufs  \n",
       "0   75 g     5  "
      ]
     },
     "metadata": {},
     "output_type": "display_data"
    }
   ],
   "source": [
    "d = {'name': name, 'note': note, 'number_comments': number_comments}\n",
    "df = pd.DataFrame(data=d,index = [0])\n",
    "\n",
    "df_quant = pd.DataFrame(quant).transpose()\n",
    "df_quant.columns = ingredient\n",
    "\n",
    "df_diff = pd.DataFrame(diff).transpose()\n",
    "df_diff =df_diff.rename(columns={0: \"time_prep\", 1: \"difficulty\",2: \"price\"}).drop(\"time_prep\",axis = 1)\n",
    "\n",
    "df_ti = pd.DataFrame(ti).transpose()\n",
    "df_ti =df_ti.rename(columns={0: \"time_tot\", 1: \"time_prep\",2: \"time_repos\",3: \"time_cooking\"})\n",
    "\n",
    "frames = [df,df_diff, df_ti, df_quant]\n",
    "\n",
    "result = pd.concat(frames,axis = 1)\n",
    "\n",
    "display(result)\n"
   ]
  },
  {
   "cell_type": "markdown",
   "metadata": {},
   "source": [
    "### 1.2 Getting the number of result pages for a given search"
   ]
  },
  {
   "cell_type": "markdown",
   "metadata": {},
   "source": [
    "Now, we need to know the number of pages for a given search. For example, if we search for \"moelleux chocolat\", we get 21 pages.\n",
    "\n",
    "We want to get it automatically.\n",
    "\n",
    "<img src=\"search.png\" width=\"500\">\n",
    "\n"
   ]
  },
  {
   "cell_type": "code",
   "execution_count": 49,
   "metadata": {},
   "outputs": [
    {
     "name": "stdout",
     "output_type": "stream",
     "text": [
      "['https://www.marmiton.org/recettes/recherche.aspx?aqt=moelleux-chocolat&page=2', 'https://www.marmiton.org/recettes/recherche.aspx?aqt=moelleux-chocolat&page=3', 'https://www.marmiton.org/recettes/recherche.aspx?aqt=moelleux-chocolat&page=4', 'https://www.marmiton.org/recettes/recherche.aspx?aqt=moelleux-chocolat&page=5', 'https://www.marmiton.org/recettes/recherche.aspx?aqt=moelleux-chocolat&page=6', 'https://www.marmiton.org/recettes/recherche.aspx?aqt=moelleux-chocolat&page=7', 'https://www.marmiton.org/recettes/recherche.aspx?aqt=moelleux-chocolat&page=8', 'https://www.marmiton.org/recettes/recherche.aspx?aqt=moelleux-chocolat&page=9', 'https://www.marmiton.org/recettes/recherche.aspx?aqt=moelleux-chocolat&page=10', 'https://www.marmiton.org/recettes/recherche.aspx?aqt=moelleux-chocolat&page=20', 'https://www.marmiton.org/recettes/recherche.aspx?aqt=moelleux-chocolat&page=21']\n"
     ]
    }
   ],
   "source": [
    "u = \"https://www.marmiton.org/recettes/recherche.aspx?aqt=moelleux-chocolat\"\n",
    "links = bs(requests.get(u).content).find_all(\"div\", class_ = \"SHRD__sc-1ymbfjb-0 fNHOUq\")\n",
    "page = [u+\"&page=\"+l.get_text() for l in links]\n",
    "print(page)"
   ]
  },
  {
   "cell_type": "markdown",
   "metadata": {},
   "source": [
    "### 1.2 Getting the links to the recipes, from a search page"
   ]
  },
  {
   "cell_type": "code",
   "execution_count": 50,
   "metadata": {},
   "outputs": [
    {
     "name": "stdout",
     "output_type": "stream",
     "text": [
      "['https://www.marmiton.org/recettes/recette_moelleux-au-chocolat_17982.aspx', 'https://www.marmiton.org/recettes/recette_cookies-aux-pepites-de-chocolat-super-moelleux_57330.aspx', 'https://www.marmiton.org/recettes/recette_veritable-moelleux-au-chocolat_12825.aspx', 'https://www.marmiton.org/recettes/recette_gateau-moelleux-marbre-vanille-chocolat_55247.aspx', 'https://www.marmiton.org/recettes/recette_le-moelleux-chocolat-d-oncle-guillaume_16996.aspx', 'https://www.marmiton.org/recettes/recette_moelleux-au-chocolat-et-noisettes_529929.aspx', 'https://www.marmiton.org/recettes/recette_moelleux-au-chocolat-coeur-fondant_165276.aspx', 'https://www.marmiton.org/recettes/recette_gateau-ultra-moelleux-au-chocolat-sans-beurre_50346.aspx', 'https://www.marmiton.org/recettes/recette_moelleux-au-chocolat-sans-beurre-sans-sucre_14748.aspx', 'https://www.marmiton.org/recettes/recette_super-moelleux-au-chocolat-pour-gourmands-et-intolerants-au-gluten_17962.aspx', 'https://www.marmiton.org/recettes/recette_moelleux-chocolat-au-micro-onde_22584.aspx', 'https://www.marmiton.org/recettes/private/recette_pain-d-epices-aux-pepites-de-chocolat_532109.aspx', 'https://www.marmiton.org/recettes/recette_gateau-moelleux-au-chocolat-de-sophie_56384.aspx', 'https://www.marmiton.org/recettes/recette_moelleux-au-chocolat-de-carole_13569.aspx']\n"
     ]
    }
   ],
   "source": [
    "r = requests.get(\"https://www.marmiton.org/recettes/recherche.aspx?aqt=moelleux-chocolat\")\n",
    "soup = bs(r.content)\n",
    "links = soup.find_all(\"a\", class_ = \"MRTN__sc-1gofnyi-2 gACiYG\")\n",
    "actual_links = ['https://www.marmiton.org'+link['href'] for link in links]\n",
    "print(actual_links)"
   ]
  }
 ],
 "metadata": {
  "kernelspec": {
   "display_name": "Python 3.9.12 ('base': conda)",
   "language": "python",
   "name": "python3"
  },
  "language_info": {
   "codemirror_mode": {
    "name": "ipython",
    "version": 3
   },
   "file_extension": ".py",
   "mimetype": "text/x-python",
   "name": "python",
   "nbconvert_exporter": "python",
   "pygments_lexer": "ipython3",
   "version": "3.9.12"
  },
  "orig_nbformat": 4,
  "vscode": {
   "interpreter": {
    "hash": "6dfc145827ab0f58a7a1474a0011303d8d42630ba263253b37e9a43e58dcb3ec"
   }
  }
 },
 "nbformat": 4,
 "nbformat_minor": 2
}
